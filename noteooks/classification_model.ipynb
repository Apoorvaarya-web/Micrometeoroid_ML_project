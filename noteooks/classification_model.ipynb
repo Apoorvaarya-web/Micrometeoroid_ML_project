{
 "cells": [
  {
   "cell_type": "code",
   "execution_count": 8,
   "id": "32c11374",
   "metadata": {},
   "outputs": [
    {
     "name": "stdout",
     "output_type": "stream",
     "text": [
      "✅ Classification Report:\n",
      "\n",
      "              precision    recall  f1-score   support\n",
      "\n",
      "   Chondrite       0.99      1.00      1.00      2343\n",
      "        Iron       0.29      0.20      0.24        10\n",
      "  Stony-Iron       0.00      0.00      0.00         9\n",
      "\n",
      "    accuracy                           0.99      2362\n",
      "   macro avg       0.43      0.40      0.41      2362\n",
      "weighted avg       0.99      0.99      0.99      2362\n",
      "\n",
      "✅ Model and encoder saved successfully.\n"
     ]
    },
    {
     "name": "stderr",
     "output_type": "stream",
     "text": [
      "C:\\Users\\ASUS\\AppData\\Local\\Packages\\PythonSoftwareFoundation.Python.3.12_qbz5n2kfra8p0\\LocalCache\\local-packages\\Python312\\site-packages\\sklearn\\metrics\\_classification.py:1471: UndefinedMetricWarning: Precision and F-score are ill-defined and being set to 0.0 in labels with no predicted samples. Use `zero_division` parameter to control this behavior.\n",
      "  _warn_prf(average, modifier, msg_start, len(result))\n",
      "C:\\Users\\ASUS\\AppData\\Local\\Packages\\PythonSoftwareFoundation.Python.3.12_qbz5n2kfra8p0\\LocalCache\\local-packages\\Python312\\site-packages\\sklearn\\metrics\\_classification.py:1471: UndefinedMetricWarning: Precision and F-score are ill-defined and being set to 0.0 in labels with no predicted samples. Use `zero_division` parameter to control this behavior.\n",
      "  _warn_prf(average, modifier, msg_start, len(result))\n",
      "C:\\Users\\ASUS\\AppData\\Local\\Packages\\PythonSoftwareFoundation.Python.3.12_qbz5n2kfra8p0\\LocalCache\\local-packages\\Python312\\site-packages\\sklearn\\metrics\\_classification.py:1471: UndefinedMetricWarning: Precision and F-score are ill-defined and being set to 0.0 in labels with no predicted samples. Use `zero_division` parameter to control this behavior.\n",
      "  _warn_prf(average, modifier, msg_start, len(result))\n"
     ]
    }
   ],
   "source": [
    "# micrometeoroid_classifier.py\n",
    "\n",
    "import pandas as pd\n",
    "from sklearn.model_selection import train_test_split\n",
    "from sklearn.ensemble import RandomForestClassifier\n",
    "from sklearn.preprocessing import LabelEncoder\n",
    "from sklearn.metrics import classification_report\n",
    "import joblib\n",
    "\n",
    "# ✅ Step 1: Load the cleaned micrometeoroid data\n",
    "file_path = r'C:\\Users\\ASUS\\OneDrive\\Desktop\\research work\\Micrometeoroid_ML_project\\data\\Micrometeoroids_Cleaned.csv'\n",
    "df = pd.read_csv(file_path)\n",
    "\n",
    "# ✅ Step 2: Encode the target labels\n",
    "le = LabelEncoder()\n",
    "df['label'] = le.fit_transform(df['class_simple'])\n",
    "\n",
    "# ✅ Step 3: Define features and labels\n",
    "X = df[['mass (g)', 'year', 'reclat', 'reclong']]\n",
    "y = df['label']\n",
    "\n",
    "# ✅ Step 4: Train/test split\n",
    "X_train, X_test, y_train, y_test = train_test_split(X, y, test_size=0.2, random_state=42)\n",
    "\n",
    "# ✅ Step 5: Train the model\n",
    "model = RandomForestClassifier(random_state=42)\n",
    "model.fit(X_train, y_train)\n",
    "\n",
    "# ✅ Step 6: Evaluate the model\n",
    "y_pred = model.predict(X_test)\n",
    "report = classification_report(y_test, y_pred, target_names=le.classes_)\n",
    "\n",
    "print(\"✅ Classification Report:\\n\")\n",
    "print(report)\n",
    "\n",
    "# ✅ Step 7: Save model and encoder\n",
    "import joblib\n",
    "import os\n",
    "\n",
    "os.makedirs('outputs', exist_ok=True)\n",
    "\n",
    "joblib.dump(model, 'outputs/model.pkl')\n",
    "joblib.dump(le, 'outputs/label_encoder.pkl')\n",
    "\n",
    "print(\"✅ Model and encoder saved successfully.\")\n",
    "\n"
   ]
  },
  {
   "cell_type": "code",
   "execution_count": 6,
   "id": "a0d02d13",
   "metadata": {},
   "outputs": [
    {
     "name": "stdout",
     "output_type": "stream",
     "text": [
      "Model file size: 1456193 bytes\n"
     ]
    }
   ],
   "source": [
    "import os\n",
    "print(\"Model file size:\", os.path.getsize('outputs/model.pkl'), \"bytes\")\n",
    "\n"
   ]
  },
  {
   "cell_type": "code",
   "execution_count": null,
   "id": "503e9ab6",
   "metadata": {},
   "outputs": [],
   "source": []
  }
 ],
 "metadata": {
  "kernelspec": {
   "display_name": "Python 3",
   "language": "python",
   "name": "python3"
  },
  "language_info": {
   "codemirror_mode": {
    "name": "ipython",
    "version": 3
   },
   "file_extension": ".py",
   "mimetype": "text/x-python",
   "name": "python",
   "nbconvert_exporter": "python",
   "pygments_lexer": "ipython3",
   "version": "3.12.10"
  }
 },
 "nbformat": 4,
 "nbformat_minor": 5
}

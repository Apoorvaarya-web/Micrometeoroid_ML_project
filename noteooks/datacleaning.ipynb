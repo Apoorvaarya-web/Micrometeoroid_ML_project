{
 "cells": [
  {
   "cell_type": "code",
   "execution_count": 6,
   "id": "91a9fd77",
   "metadata": {},
   "outputs": [
    {
     "name": "stderr",
     "output_type": "stream",
     "text": [
      "C:\\Users\\ASUS\\AppData\\Local\\Temp\\ipykernel_39976\\396996826.py:29: SettingWithCopyWarning: \n",
      "A value is trying to be set on a copy of a slice from a DataFrame.\n",
      "Try using .loc[row_indexer,col_indexer] = value instead\n",
      "\n",
      "See the caveats in the documentation: https://pandas.pydata.org/pandas-docs/stable/user_guide/indexing.html#returning-a-view-versus-a-copy\n",
      "  df_micro['class_simple'] = df_micro['recclass'].apply(simplify_recclass)\n"
     ]
    },
    {
     "name": "stdout",
     "output_type": "stream",
     "text": [
      "✅ Cleaned micrometeoroid dataset created!\n",
      "Total entries: 11807\n",
      "Class distribution:\n",
      " class_simple\n",
      "Chondrite     11735\n",
      "Iron             41\n",
      "Stony-Iron       31\n",
      "Name: count, dtype: int64\n",
      "Sample data:\n",
      "      mass (g)    year    reclat    reclong class_simple\n",
      "170       8.0  1902.0  38.50000   27.00000    Chondrite\n",
      "180       0.5  1814.0  25.36667   81.66667    Chondrite\n",
      "231       0.8  1897.0  28.56667   77.25000    Chondrite\n",
      "359       0.2  1817.0  35.65000  139.33333    Chondrite\n",
      "508       5.0  1860.0  29.68333   78.38333    Chondrite\n"
     ]
    }
   ],
   "source": [
    "# micrometeoroid_data_cleaning.py\n",
    "\n",
    "import pandas as pd\n",
    "\n",
    "# ✅ Step 1: Define the path (use raw string or forward slashes)\n",
    "file_path = r'C:\\Users\\ASUS\\OneDrive\\Desktop\\research work\\Micrometeoroid_ML_project\\data\\Meteorite_Landings.csv'\n",
    "\n",
    "# ✅ Step 2: Load the dataset\n",
    "df = pd.read_csv(file_path)\n",
    "\n",
    "# ✅ Step 3: Drop rows with missing values in key columns\n",
    "df_clean = df.dropna(subset=['mass (g)', 'year', 'reclat', 'reclong', 'recclass'])\n",
    "\n",
    "# ✅ Step 4: Filter for micrometeoroids (mass < 10 grams)\n",
    "df_micro = df_clean[df_clean['mass (g)'] < 10]\n",
    "\n",
    "# ✅ Step 5: Simplify meteorite classes into 3 categories\n",
    "def simplify_recclass(recclass):\n",
    "    recclass = recclass.lower()\n",
    "    if 'h' in recclass or 'l' in recclass or 'ch' in recclass or 'c' in recclass:\n",
    "        return 'Chondrite'\n",
    "    elif 'iron' in recclass:\n",
    "        return 'Iron'\n",
    "    elif 'pallasite' in recclass or 'mesosiderite' in recclass:\n",
    "        return 'Stony-Iron'\n",
    "    else:\n",
    "        return 'Other'\n",
    "\n",
    "df_micro['class_simple'] = df_micro['recclass'].apply(simplify_recclass)\n",
    "\n",
    "# ✅ Step 6: Keep only the 3 major types (drop 'Other')\n",
    "df_micro = df_micro[df_micro['class_simple'].isin(['Chondrite', 'Iron', 'Stony-Iron'])]\n",
    "\n",
    "# ✅ Step 7: Save cleaned data to a new CSV (optional)\n",
    "output_path = r'C:\\Users\\ASUS\\OneDrive\\Desktop\\research work\\Micrometeoroid_ML_project\\data\\Micrometeoroids_Cleaned.csv'\n",
    "df_micro.to_csv(output_path, index=False)\n",
    "\n",
    "# ✅ Step 8: Show final stats\n",
    "print(\"✅ Cleaned micrometeoroid dataset created!\")\n",
    "print(\"Total entries:\", len(df_micro))\n",
    "print(\"Class distribution:\\n\", df_micro['class_simple'].value_counts())\n",
    "print(\"Sample data:\\n\", df_micro[['mass (g)', 'year', 'reclat', 'reclong', 'class_simple']].head())\n"
   ]
  },
  {
   "cell_type": "code",
   "execution_count": null,
   "id": "2471594f",
   "metadata": {},
   "outputs": [
    {
     "name": "stdout",
     "output_type": "stream",
     "text": [
      "✅ Classification Report:\n",
      "\n",
      "              precision    recall  f1-score   support\n",
      "\n",
      "   Chondrite       0.99      1.00      1.00      2343\n",
      "        Iron       0.29      0.20      0.24        10\n",
      "  Stony-Iron       0.00      0.00      0.00         9\n",
      "\n",
      "    accuracy                           0.99      2362\n",
      "   macro avg       0.43      0.40      0.41      2362\n",
      "weighted avg       0.99      0.99      0.99      2362\n",
      "\n"
     ]
    },
    {
     "name": "stderr",
     "output_type": "stream",
     "text": [
      "C:\\Users\\ASUS\\AppData\\Local\\Packages\\PythonSoftwareFoundation.Python.3.12_qbz5n2kfra8p0\\LocalCache\\local-packages\\Python312\\site-packages\\sklearn\\metrics\\_classification.py:1471: UndefinedMetricWarning: Precision and F-score are ill-defined and being set to 0.0 in labels with no predicted samples. Use `zero_division` parameter to control this behavior.\n",
      "  _warn_prf(average, modifier, msg_start, len(result))\n",
      "C:\\Users\\ASUS\\AppData\\Local\\Packages\\PythonSoftwareFoundation.Python.3.12_qbz5n2kfra8p0\\LocalCache\\local-packages\\Python312\\site-packages\\sklearn\\metrics\\_classification.py:1471: UndefinedMetricWarning: Precision and F-score are ill-defined and being set to 0.0 in labels with no predicted samples. Use `zero_division` parameter to control this behavior.\n",
      "  _warn_prf(average, modifier, msg_start, len(result))\n",
      "C:\\Users\\ASUS\\AppData\\Local\\Packages\\PythonSoftwareFoundation.Python.3.12_qbz5n2kfra8p0\\LocalCache\\local-packages\\Python312\\site-packages\\sklearn\\metrics\\_classification.py:1471: UndefinedMetricWarning: Precision and F-score are ill-defined and being set to 0.0 in labels with no predicted samples. Use `zero_division` parameter to control this behavior.\n",
      "  _warn_prf(average, modifier, msg_start, len(result))\n"
     ]
    },
    {
     "ename": "FileNotFoundError",
     "evalue": "[Errno 2] No such file or directory: 'C:\\\\Users\\\\ASUS\\\\OneDrive\\\\Desktop\\\\research work\\\\Micrometeoroid_ML_project\\\\outputs\\\\micrometeor_model.pkl'",
     "output_type": "error",
     "traceback": [
      "\u001b[1;31m---------------------------------------------------------------------------\u001b[0m",
      "\u001b[1;31mFileNotFoundError\u001b[0m                         Traceback (most recent call last)",
      "Cell \u001b[1;32mIn[8], line 37\u001b[0m\n\u001b[0;32m     34\u001b[0m \u001b[38;5;28mprint\u001b[39m(report)\n\u001b[0;32m     36\u001b[0m \u001b[38;5;66;03m# ✅ Step 7: Save model and encoder\u001b[39;00m\n\u001b[1;32m---> 37\u001b[0m \u001b[43mjoblib\u001b[49m\u001b[38;5;241;43m.\u001b[39;49m\u001b[43mdump\u001b[49m\u001b[43m(\u001b[49m\u001b[43mmodel\u001b[49m\u001b[43m,\u001b[49m\u001b[43m \u001b[49m\u001b[38;5;124;43mr\u001b[39;49m\u001b[38;5;124;43m'\u001b[39;49m\u001b[38;5;124;43mC:\u001b[39;49m\u001b[38;5;124;43m\\\u001b[39;49m\u001b[38;5;124;43mUsers\u001b[39;49m\u001b[38;5;124;43m\\\u001b[39;49m\u001b[38;5;124;43mASUS\u001b[39;49m\u001b[38;5;124;43m\\\u001b[39;49m\u001b[38;5;124;43mOneDrive\u001b[39;49m\u001b[38;5;124;43m\\\u001b[39;49m\u001b[38;5;124;43mDesktop\u001b[39;49m\u001b[38;5;124;43m\\\u001b[39;49m\u001b[38;5;124;43mresearch work\u001b[39;49m\u001b[38;5;124;43m\\\u001b[39;49m\u001b[38;5;124;43mMicrometeoroid_ML_project\u001b[39;49m\u001b[38;5;124;43m\\\u001b[39;49m\u001b[38;5;124;43moutputs\u001b[39;49m\u001b[38;5;124;43m\\\u001b[39;49m\u001b[38;5;124;43mmicrometeor_model.pkl\u001b[39;49m\u001b[38;5;124;43m'\u001b[39;49m\u001b[43m)\u001b[49m\n\u001b[0;32m     38\u001b[0m joblib\u001b[38;5;241m.\u001b[39mdump(le, \u001b[38;5;124mr\u001b[39m\u001b[38;5;124m'\u001b[39m\u001b[38;5;124mC:\u001b[39m\u001b[38;5;124m\\\u001b[39m\u001b[38;5;124mUsers\u001b[39m\u001b[38;5;124m\\\u001b[39m\u001b[38;5;124mASUS\u001b[39m\u001b[38;5;124m\\\u001b[39m\u001b[38;5;124mOneDrive\u001b[39m\u001b[38;5;124m\\\u001b[39m\u001b[38;5;124mDesktop\u001b[39m\u001b[38;5;124m\\\u001b[39m\u001b[38;5;124mresearch work\u001b[39m\u001b[38;5;124m\\\u001b[39m\u001b[38;5;124mMicrometeoroid_ML_project\u001b[39m\u001b[38;5;124m\\\u001b[39m\u001b[38;5;124moutputs\u001b[39m\u001b[38;5;124m\\\u001b[39m\u001b[38;5;124mlabel_encoder.pkl\u001b[39m\u001b[38;5;124m'\u001b[39m)\n\u001b[0;32m     40\u001b[0m \u001b[38;5;28mprint\u001b[39m(\u001b[38;5;124m\"\u001b[39m\u001b[38;5;124m🎉 Model and encoder saved successfully!\u001b[39m\u001b[38;5;124m\"\u001b[39m)\n",
      "File \u001b[1;32m~\\AppData\\Local\\Packages\\PythonSoftwareFoundation.Python.3.12_qbz5n2kfra8p0\\LocalCache\\local-packages\\Python312\\site-packages\\joblib\\numpy_pickle.py:552\u001b[0m, in \u001b[0;36mdump\u001b[1;34m(value, filename, compress, protocol, cache_size)\u001b[0m\n\u001b[0;32m    550\u001b[0m         NumpyPickler(f, protocol\u001b[38;5;241m=\u001b[39mprotocol)\u001b[38;5;241m.\u001b[39mdump(value)\n\u001b[0;32m    551\u001b[0m \u001b[38;5;28;01melif\u001b[39;00m is_filename:\n\u001b[1;32m--> 552\u001b[0m     \u001b[38;5;28;01mwith\u001b[39;00m \u001b[38;5;28;43mopen\u001b[39;49m\u001b[43m(\u001b[49m\u001b[43mfilename\u001b[49m\u001b[43m,\u001b[49m\u001b[43m \u001b[49m\u001b[38;5;124;43m'\u001b[39;49m\u001b[38;5;124;43mwb\u001b[39;49m\u001b[38;5;124;43m'\u001b[39;49m\u001b[43m)\u001b[49m \u001b[38;5;28;01mas\u001b[39;00m f:\n\u001b[0;32m    553\u001b[0m         NumpyPickler(f, protocol\u001b[38;5;241m=\u001b[39mprotocol)\u001b[38;5;241m.\u001b[39mdump(value)\n\u001b[0;32m    554\u001b[0m \u001b[38;5;28;01melse\u001b[39;00m:\n",
      "\u001b[1;31mFileNotFoundError\u001b[0m: [Errno 2] No such file or directory: 'C:\\\\Users\\\\ASUS\\\\OneDrive\\\\Desktop\\\\research work\\\\Micrometeoroid_ML_project\\\\outputs\\\\micrometeor_model.pkl'"
     ]
    }
   ],
   "source": []
  },
  {
   "cell_type": "code",
   "execution_count": null,
   "id": "1a7b0b3f",
   "metadata": {},
   "outputs": [],
   "source": []
  }
 ],
 "metadata": {
  "kernelspec": {
   "display_name": "Python 3",
   "language": "python",
   "name": "python3"
  },
  "language_info": {
   "codemirror_mode": {
    "name": "ipython",
    "version": 3
   },
   "file_extension": ".py",
   "mimetype": "text/x-python",
   "name": "python",
   "nbconvert_exporter": "python",
   "pygments_lexer": "ipython3",
   "version": "3.12.10"
  }
 },
 "nbformat": 4,
 "nbformat_minor": 5
}
